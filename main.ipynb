{
 "cells": [
  {
   "cell_type": "code",
   "execution_count": 2,
   "metadata": {},
   "outputs": [
    {
     "name": "stdout",
     "output_type": "stream",
     "text": [
      "{'credentials_dir': 'input/credentials', 'gservice_config': 'config/gservices-config.yaml', 'db_credentials': 'config/test-config.yaml', 'query_config': 'query-configuration.json', 'queries_dir': 'queries'} \n",
      "\n",
      "{'host': 'localhost', 'port': 5432, 'dbname': 'dspace', 'user': 'darkelement', 'password': 'darkelement'} \n",
      "\n",
      "{'default_spreadsheet_id': '1XveewO_96iB2zPqrWYPxgLIb5vW8we7YFaHsEHcXLFs', 'default_sheet_name': 'Hoja 1', 'credentials_path': 'input/credentials/rvargas@concytec.gob.pe', 'scopes': ['https://www.googleapis.com/auth/spreadsheets']} \n",
      "\n",
      "[{'context': 'dspace-collection', 'query_file': 'get_collections.txt', 'previous_version': 'Hoja Antigua', 'column_dtype': {'collection_id': 'float', 'template_item_id': 'int'}}, {'context': 'dspace-item', 'query_file': 'get_items.txt', 'sheet_name': 'Hoja 7', 'previous_version': 'Hoja 8', 'column_dtype': {'submitter_id': 'int', 'owning_collection': 'float'}}] \n",
      "\n",
      "{'context': 'dspace-collection', 'query_file': 'get_collections.txt', 'previous_version': 'Hoja Antigua', 'column_dtype': {'collection_id': 'float', 'template_item_id': 'int'}}\n",
      "Previous version saved in queries/dspace-collection/previous-version/Hoja Antigua-20-04-09_10-05-17.xlsx\n",
      "The contents of the 'Hoja 1' sheet have been moved to the 'Hoja Antigua' sheet\n",
      "The contents of the sheet 'Hoja 1' have been updated.\n",
      "{'context': 'dspace-item', 'query_file': 'get_items.txt', 'sheet_name': 'Hoja 7', 'previous_version': 'Hoja 8', 'column_dtype': {'submitter_id': 'int', 'owning_collection': 'float'}}\n",
      "Previous version saved in queries/dspace-item/previous-version/Hoja 8-20-04-09_10-05-24.xlsx\n",
      "The contents of the 'Hoja 7' sheet have been moved to the 'Hoja 8' sheet\n",
      "The contents of the sheet 'Hoja 7' have been updated.\n"
     ]
    }
   ],
   "source": [
    "from config.configurer import ConfigurationLoader\n",
    "from config.engine import DBEngineConfigurator\n",
    "from config.push import DataPusher\n",
    "\n",
    "\n",
    "config = ConfigurationLoader()\n",
    "engine = DBEngineConfigurator(config)\n",
    "pusher = DataPusher(config, engine)\n",
    "pusher.push()\n"
   ]
  },
  {
   "cell_type": "code",
   "execution_count": null,
   "metadata": {},
   "outputs": [],
   "source": []
  },
  {
   "cell_type": "code",
   "execution_count": null,
   "metadata": {},
   "outputs": [],
   "source": [
    "txt = \"\"\"\n",
    " id_investigador | codigo_renacyt | Tipo_de_documento_de_identidad | Numero_de_documento_de_identidad |        grupo         | nivel | Fecha_de_inicio_de_vigencia | Fecha_fin_de_vigencia |               nombres               |   apellido_paterno   |     apellido_materno     |  Genero   | fecha_nacimiento |      i\n",
    "d_orcid       |                                       Institucion Laboral Principal                                       |             departamento         \n",
    "    |          \n",
    "\"\"\"\n",
    "\n",
    "txt = txt.strip()"
   ]
  },
  {
   "cell_type": "code",
   "execution_count": null,
   "metadata": {},
   "outputs": [],
   "source": [
    "NameError(\"\")"
   ]
  }
 ],
 "metadata": {
  "kernelspec": {
   "display_name": "Python 3",
   "language": "python",
   "name": "python3"
  },
  "language_info": {
   "codemirror_mode": {
    "name": "ipython",
    "version": 3
   },
   "file_extension": ".py",
   "mimetype": "text/x-python",
   "name": "python",
   "nbconvert_exporter": "python",
   "pygments_lexer": "ipython3",
   "version": "3.7.3"
  }
 },
 "nbformat": 4,
 "nbformat_minor": 2
}
